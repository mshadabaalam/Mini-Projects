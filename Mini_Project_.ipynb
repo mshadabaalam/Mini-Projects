{
 "cells": [
  {
   "cell_type": "markdown",
   "metadata": {
    "id": "_sMiAXoS_bkN"
   },
   "source": [
    "### Problem 1:\n",
    "\n",
    "1. Write a program to calculate area of shapes. Your program should be capable of calculating the area of a square, rectangle, triangle and a circle. The user should be presented with options to select the shape. Based on which shape is chosed by the user, the program should ask for the appropriate input and print the resulting area on the screen.\n",
    "\n",
    "When the program is run, the screen should display something like this:\n",
    "\n",
    "**Which shape would you like to calculate the area for? Please enter the option number-**<br>\n",
    "**1. Square**<br>\n",
    "**2. Rectangle**<br>\n",
    "**3. Triangle**<br>\n",
    "**4. Circle**<br>\n",
    "**Enter Option: _**\n",
    "\n",
    "Say the user enters the option 1.\n",
    "\n",
    "**Please enter the length of a side: _**\n",
    "\n",
    "If the user enters a value of 5. The output should be:\n",
    "\n",
    "**The area of the square is 25**\n",
    "\n",
    "This program should indicate that the input is invalid if the user enters a character instead of a number as input. For instance if the user enters a value of ‘a’ instead of 5 in the previous example the program should prompt:\n",
    "\n",
    "**Invalid input, please enter a number: _**\n"
   ]
  },
  {
   "cell_type": "code",
   "execution_count": 10,
   "metadata": {
    "id": "b6xCva_m_MgQ"
   },
   "outputs": [
    {
     "name": "stdout",
     "output_type": "stream",
     "text": [
      "Which shape would you like to calculate the area for? Please enter the option number-\n",
      "1. Square\n",
      "2. Rectangle\n",
      "3. Triangle\n",
      "4. Circle\n"
     ]
    },
    {
     "name": "stdin",
     "output_type": "stream",
     "text": [
      "Enter Option:  3\n",
      "Please Enter the base 5\n",
      "Please enter the heigth 2\n"
     ]
    },
    {
     "name": "stdout",
     "output_type": "stream",
     "text": [
      "The area of the triangle is 5.0\n"
     ]
    }
   ],
   "source": [
    "def get_number(prompt):\n",
    "    while True:\n",
    "        try:\n",
    "            return float(input(prompt))\n",
    "        except ValueError:\n",
    "            print(\"Invalid input,please enter a number.\")\n",
    "\n",
    "def calculate_area():\n",
    "    print(\"Which shape would you like to calculate the area for? Please enter the option number-\")\n",
    "    print(\"1. Square\")\n",
    "    print(\"2. Rectangle\")\n",
    "    print(\"3. Triangle\")\n",
    "    print(\"4. Circle\")\n",
    "    \n",
    "    option = input(\"Enter Option: \")\n",
    "    \n",
    "    if option == '1':\n",
    "        side = get_number(\"Please enter the length of a side\")\n",
    "        area= side**2\n",
    "        print(f\"The area of the sqaure{area}\")\n",
    "        \n",
    "    elif option == '2':\n",
    "        length=get_number('Please Enter the length')\n",
    "        width=get_number('Please Enter the width')\n",
    "        area=length*width\n",
    "        print(f\"The Area of rectangle is{area}\")\n",
    "        \n",
    "    elif option == '3':\n",
    "        base=get_number('Please Enter the base')\n",
    "        height=get_number('Please enter the heigth')\n",
    "        area=0.5*base*height\n",
    "        print(f\"The area of the triangle is {area}\")\n",
    "        \n",
    "    elif option == '4':\n",
    "        radius=get_number('Please enter the radius')\n",
    "        area=3.14159*radius**2\n",
    "        print(f\"The area of the circlr is {area}\")\n",
    "        \n",
    "    else:\n",
    "        print('Invalid Option. Please Enter the number between 1 to 4')\n",
    "\n",
    "calculate_area()"
   ]
  },
  {
   "cell_type": "code",
   "execution_count": null,
   "metadata": {},
   "outputs": [],
   "source": []
  },
  {
   "cell_type": "markdown",
   "metadata": {
    "id": "11uJGVs3_eL8"
   },
   "source": [
    "### Problem 2:\n",
    "\n",
    "Create an encrypter in python based on the ceaser cipher. It is a substitution cipher where each character of the original text is shifted a certain number characters in the alphabet. Write a function that would require 2 arguments – the input text to be encrypted and a key. For eg: Given the input text ‘hello’ and the key 3, the resulting encryted text would be ‘khoor’. Here you can see that every character in the string hello is shifted by 3 characters. ‘h’ has shifted to ‘k’, ‘e’ has shifted to ‘h’ and so on. If a key of 5 were used, the resulting string would be ‘mjqqt’. This function should be capable of ignoring any characters which are not alphabets. Th2 character ‘z’ entered b\n",
    "y the user for a key of 3 would result in ‘c’.\n",
    "\n",
    "Usage:<br>\n",
    "**encrypt(‘hello world!’, 3)**<br>\n",
    "**‘khoor zruog!’**\n",
    "\n",
    "Similarly create decrypter which can decode the encryted text when provided the input text and key\n",
    "\n",
    "Usage:<br>\n",
    "**decrypt(‘khoor zruog!’, 3)**<br>\n",
    "**‘hello world!’**\n",
    "\n",
    "For the sake of simplicity you can assume that input solely consists of lowercase alphabets, spaces and punctuation symbols. Numbers in the input text would also be ignored similar to symbols."
   ]
  },
  {
   "cell_type": "code",
   "execution_count": 14,
   "metadata": {
    "id": "ZNy_BsLN_eet"
   },
   "outputs": [
    {
     "name": "stdout",
     "output_type": "stream",
     "text": [
      "khoor zruog!\n",
      "hello wolrd\n"
     ]
    }
   ],
   "source": [
    "def encrypt(text, key):\n",
    "    encrypted_text=[]\n",
    "    for char in text:\n",
    "        if char.isalpha():\n",
    "            shifted = ord(char) + key\n",
    "            if shifted > ord('z'):\n",
    "                shifted-=26\n",
    "            encrypted_text.append(chr(shifted))\n",
    "        else:\n",
    "            encrypted_text.append(char)\n",
    "    return ''.join(encrypted_text)\n",
    "\n",
    "def decrypt(text, key):\n",
    "    decrypted_text = []\n",
    "    for char in text:\n",
    "        if char.isalpha():\n",
    "            shifted = ord(char) - key\n",
    "            if shifted < ord('a'):\n",
    "                shifted += 26\n",
    "            decrypted_text.append(chr(shifted))\n",
    "        else:\n",
    "            decrypted_text.append(char)\n",
    "    return ''.join(decrypted_text)\n",
    "\n",
    "print(encrypt('hello world!',3))\n",
    "print(decrypt('khoor zroug',3))"
   ]
  },
  {
   "cell_type": "code",
   "execution_count": null,
   "metadata": {},
   "outputs": [],
   "source": []
  }
 ],
 "metadata": {
  "colab": {
   "provenance": []
  },
  "kernelspec": {
   "display_name": "Python 3 (ipykernel)",
   "language": "python",
   "name": "python3"
  },
  "language_info": {
   "codemirror_mode": {
    "name": "ipython",
    "version": 3
   },
   "file_extension": ".py",
   "mimetype": "text/x-python",
   "name": "python",
   "nbconvert_exporter": "python",
   "pygments_lexer": "ipython3",
   "version": "3.12.3"
  }
 },
 "nbformat": 4,
 "nbformat_minor": 4
}
